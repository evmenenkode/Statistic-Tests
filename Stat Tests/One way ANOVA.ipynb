{
 "cells": [
  {
   "cell_type": "code",
   "execution_count": 4,
   "id": "944c0890",
   "metadata": {},
   "outputs": [
    {
     "name": "stdout",
     "output_type": "stream",
     "text": [
      "           Df   Sum Sq Mean Sq F-value p-value\n",
      "Therapy     3   560.72  186.91    8.04  0.0002\n",
      "Residuals  56  1302.27   23.25                \n"
     ]
    }
   ],
   "source": [
    "from scipy.stats import stats\n",
    "import pandas as pd\n",
    "import numpy as np\n",
    "\n",
    "\n",
    "def ssw(main_data: pd.DataFrame, group_col: str, value_col: str):\n",
    "    group_names = data[group_col].unique()\n",
    "    return np.sum([\n",
    "        (\n",
    "            main_data.loc[main_data[group_col] == group, value_col] -\n",
    "            main_data.loc[main_data[group_col] == group, value_col].mean()\n",
    "        ) ** 2\n",
    "        for group in group_names\n",
    "    ])\n",
    "\n",
    "\n",
    "def ssb(main_data: pd.DataFrame, group_col: str, value_col: str):\n",
    "    group_names = data[group_col].unique()\n",
    "    overall_mean = main_data[value_col].mean()\n",
    "    return np.sum([\n",
    "        len(main_data.loc[main_data[group_col] == group, value_col]) * (\n",
    "            main_data.loc[main_data[group_col] == group, value_col].mean() -\n",
    "            overall_mean\n",
    "        ) ** 2\n",
    "        for group in group_names\n",
    "    ])\n",
    "\n",
    "\n",
    "# Файл данных должен лежать в папке с файлом .py (или .ipynb) \n",
    "data = pd.read_csv(r\"D:\\DataSets\\genetherapy.csv\")\n",
    "groups = data['Therapy'].unique()\n",
    "subsets = [data.query('Therapy == @group')['expr'] for group in groups]\n",
    "\n",
    "ssb_df = len(groups) - 1\n",
    "ssw_df = data.shape[0] - len(groups)\n",
    "\n",
    "SSW = ssw(data, 'Therapy', 'expr')\n",
    "SSB = ssb(data, 'Therapy', 'expr')\n",
    "\n",
    "f_val, p_val = stats.f_oneway(*subsets)\n",
    "\n",
    "anova_results = pd.DataFrame([\n",
    "{\n",
    "        'Df': ssb_df,\n",
    "        'Sum Sq': '{0:.2f}'.format(SSB),\n",
    "        'Mean Sq': '{0:.2f}'.format(SSB / ssb_df),\n",
    "        'F-value': '{0:.2f}'.format(f_val),\n",
    "        'p-value': '{0:.4f}'.format(p_val),\n",
    "    },\n",
    "    {\n",
    "        'Df': ssw_df,\n",
    "        'Sum Sq': '{0:.2f}'.format(SSW),\n",
    "        'Mean Sq': '{0:.2f}'.format(SSW / ssw_df),\n",
    "        'F-value': '',\n",
    "        'p-value': '',\n",
    "    },\n",
    "], index=['Therapy', 'Residuals'])\n",
    "\n",
    "print(anova_results)"
   ]
  },
  {
   "cell_type": "code",
   "execution_count": 6,
   "id": "4cc4cdae",
   "metadata": {},
   "outputs": [
    {
     "name": "stdout",
     "output_type": "stream",
     "text": [
      "\n",
      "F_onewayResult(statistic=8.03730248114399, pvalue=0.00015249722895229536)\n",
      "A 99.73333333333333 4.1656189158852435\n",
      "B 98.8 5.894307180904058\n",
      "C 94.4 5.193402408000807\n",
      "D 92.33333333333333 3.7352886036263593\n"
     ]
    },
    {
     "name": "stderr",
     "output_type": "stream",
     "text": [
      "C:\\Users\\Denis\\AppData\\Local\\Temp\\ipykernel_720\\2335176663.py:31: UserWarning: marker is redundantly defined by the 'marker' keyword argument and the fmt string \"o\" (-> marker='o'). The keyword argument will take precedence.\n",
      "  plt.errorbar(x=listName, y=listMEAN, yerr=listERR, color='black', capsize=3,\n"
     ]
    },
    {
     "data": {
      "image/png": "[encoded data removed]",
      "text/plain": [
       "<Figure size 432x288 with 1 Axes>"
      ]
     },
     "metadata": {
      "needs_background": "light"
     },
     "output_type": "display_data"
    }
   ],
   "source": [
    "import pandas as pd\n",
    "import scipy.stats as stats\n",
    "import matplotlib.pyplot as plt\n",
    "\n",
    "# Прочитаем заранее сохраненный файл с данными\n",
    "\n",
    "A = list(data[data['Therapy'] == 'A']['expr'])\n",
    "B = list(data[data['Therapy'] == 'B']['expr'])\n",
    "C = list(data[data['Therapy'] == 'C']['expr'])\n",
    "D = list(data[data['Therapy'] == 'D']['expr'])\n",
    "\n",
    "print()\n",
    "print(stats.f_oneway(A, B, C, D))\n",
    "\n",
    "# Output:\n",
    "# F_onewayResult(statistic=8.03730248114399, pvalue=0.00015249722895229536)\n",
    "\n",
    "\n",
    "# Теперь нарисуем график\n",
    "\n",
    "listName = []\n",
    "listMEAN = []\n",
    "listERR = []\n",
    "\n",
    "for group, frame in data.groupby('Therapy')['expr']:\n",
    "    print(group, frame.mean(), frame.std())\n",
    "    listName.append(group)\n",
    "    listMEAN.append(frame.mean())\n",
    "    listERR.append(frame.std()/2)\n",
    "\n",
    "plt.errorbar(x=listName, y=listMEAN, yerr=listERR, color='black', capsize=3,\n",
    "             marker='s', markersize=6, mfc='white',mec='black', fmt='o')\n",
    "plt.title('Уровень экспрессии гена при различной терапии')\n",
    "plt.grid()\n",
    "plt.xlabel('Терапия')\n",
    "plt.ylabel('Экспрессия')\n",
    "plt.show()"
   ]
  },
  {
   "cell_type": "code",
   "execution_count": null,
   "id": "45b11203",
   "metadata": {},
   "outputs": [],
   "source": []
  }
 ],
 "metadata": {
  "kernelspec": {
   "display_name": "Python 3 (ipykernel)",
   "language": "python",
   "name": "python3"
  },
  "language_info": {
   "codemirror_mode": {
    "name": "ipython",
    "version": 3
   },
   "file_extension": ".py",
   "mimetype": "text/x-python",
   "name": "python",
   "nbconvert_exporter": "python",
   "pygments_lexer": "ipython3",
   "version": "3.9.12"
  }
 },
 "nbformat": 4,
 "nbformat_minor": 5
}
