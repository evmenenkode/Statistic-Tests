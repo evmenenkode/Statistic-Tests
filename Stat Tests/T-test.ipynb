{
 "cells": [
  {
   "cell_type": "code",
   "execution_count": 1,
   "id": "f26e279e",
   "metadata": {},
   "outputs": [
    {
     "name": "stdout",
     "output_type": "stream",
     "text": [
      "t-value: 8.176235608718828\n",
      "p-value for the 95.0% confidence interval: 1.9720174778338955\n",
      "\n",
      "rejecting the null hypothesis\n"
     ]
    }
   ],
   "source": [
    "import scipy.stats as st\n",
    "import math\n",
    "import numpy as np\n",
    "\n",
    "x_men_bar = 45\n",
    "sd_men = 9\n",
    "\n",
    "x_w_bar = 34\n",
    "sd_w = 10\n",
    "\n",
    "n = 100\n",
    "alpha = 0.95\n",
    "\n",
    "se = math.sqrt(sd_men**2 / n + sd_w**2 / n)\n",
    "t = (x_men_bar - x_w_bar) / se\n",
    "\n",
    "df = n + n - 2\n",
    "\n",
    "p_value = np.abs(st.t.ppf((1 - alpha) / 2, df))\n",
    "\n",
    "print(f\"\"\"t-value: {t}\n",
    "p-value for the {alpha * 100}% confidence interval: {p_value}\n",
    "\"\"\")\n",
    "if t > p_value: \n",
    "    print(\"rejecting the null hypothesis\")\n",
    "elif t < p_value:\n",
    "    print(\"acepting the null hypothesis\")"
   ]
  },
  {
   "cell_type": "code",
   "execution_count": 4,
   "id": "9821376a",
   "metadata": {},
   "outputs": [
    {
     "data": {
      "text/plain": [
       "Ttest_indResult(statistic=8.176235608718828, pvalue=3.455544014290269e-14)"
      ]
     },
     "execution_count": 4,
     "metadata": {},
     "output_type": "execute_result"
    }
   ],
   "source": [
    "from scipy.stats import ttest_ind_from_stats\n",
    "\n",
    "ttest_ind_from_stats(mean1=45, std1=9, nobs1=100,\n",
    "                     mean2=34, std2=10, nobs2=100)"
   ]
  }
 ],
 "metadata": {
  "kernelspec": {
   "display_name": "Python 3 (ipykernel)",
   "language": "python",
   "name": "python3"
  },
  "language_info": {
   "codemirror_mode": {
    "name": "ipython",
    "version": 3
   },
   "file_extension": ".py",
   "mimetype": "text/x-python",
   "name": "python",
   "nbconvert_exporter": "python",
   "pygments_lexer": "ipython3",
   "version": "3.9.12"
  }
 },
 "nbformat": 4,
 "nbformat_minor": 5
}
